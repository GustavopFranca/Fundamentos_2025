{
 "cells": [
  {
   "cell_type": "code",
   "execution_count": null,
   "metadata": {},
   "outputs": [],
   "source": [
    "a = int(input(\"Digite o lado A: \"))\n",
    "b = int(input(\"Digite o lado B: \"))\n",
    "c = int(input(\"Digite o lado C: \"))\n",
    "\n",
    "if a < b + c and b< a + c and c < a + b:\n",
    "\n",
    "    if a == b and a == c and b == c:\n",
    "        print(\"Triangulo equilatero.\")\n",
    "\n",
    "    else:\n",
    "        if a ==b or a == c or b ==c :\n",
    "            print(\"Triangulo isosceles.\")\n",
    "\n",
    "        else:\n",
    "            print(\"Triangulo escaleno.\")\n",
    "\n",
    "\n",
    "else: \n",
    "        \n",
    "        print(\"Os lados não foram um triangulo\")"
   ]
  },
  {
   "cell_type": "code",
   "execution_count": 3,
   "metadata": {},
   "outputs": [
    {
     "name": "stdout",
     "output_type": "stream",
     "text": [
      "Preço do produto: R$ 300.00\n",
      "Procedência: Nordeste\n"
     ]
    }
   ],
   "source": [
    "\n",
    "preco = float(input(\"Digite o preço do produto: R$ \"))\n",
    "codigo = int(input(\"Digite o código de origem do produto: \"))\n",
    "\n",
    "if codigo == 1:\n",
    "    procedencia = \"Sul\"\n",
    "elif codigo == 2:\n",
    "    procedencia = \"Norte\"\n",
    "elif codigo == 3:\n",
    "    procedencia = \"Leste\"\n",
    "elif codigo == 4:\n",
    "    procedencia = \"Oeste\"\n",
    "elif codigo == 5 or codigo == 6:\n",
    "    procedencia = \"Nordeste\"\n",
    "elif codigo == 7 or codigo == 8 or codigo == 9:\n",
    "    procedencia = \"Sudeste\"\n",
    "elif 10 <= codigo <= 20:\n",
    "    procedencia = \"Centro-Oeste\"\n",
    "elif 25 <= codigo <= 30:\n",
    "    procedencia = \"Nordeste\"\n",
    "else:\n",
    "    procedencia = \"Importado\"\n",
    "\n",
    "print(f\"Preço do produto: R$ {preco:.2f}\")\n",
    "print(f\"Procedência: {procedencia}\")\n"
   ]
  },
  {
   "cell_type": "code",
   "execution_count": 2,
   "metadata": {},
   "outputs": [
    {
     "name": "stdout",
     "output_type": "stream",
     "text": [
      "1000 790 350\n"
     ]
    }
   ],
   "source": [
    "a = int(input(\"digite o primeiro valor\"))\n",
    "b = int(input(\"digite o segundo  valor\"))\n",
    "c = int(input(\"digite o terceiro valor\"))\n",
    "\n",
    "if a > b and a > c:\n",
    "    if b > c:\n",
    "        print(a, b, c)\n",
    "    else:\n",
    "        print(a, c, b)\n",
    "elif b > a and b > c:\n",
    "    if a > c:\n",
    "        print(b, a, c)\n",
    "    else:\n",
    "        print(b, c, a)\n",
    "else:\n",
    "    if a > b:\n",
    "        print(c, a, b)\n",
    "    else:\n",
    "        print(c, b, a)"
   ]
  }
 ],
 "metadata": {
  "kernelspec": {
   "display_name": "base",
   "language": "python",
   "name": "python3"
  },
  "language_info": {
   "codemirror_mode": {
    "name": "ipython",
    "version": 3
   },
   "file_extension": ".py",
   "mimetype": "text/x-python",
   "name": "python",
   "nbconvert_exporter": "python",
   "pygments_lexer": "ipython3",
   "version": "3.9.13"
  }
 },
 "nbformat": 4,
 "nbformat_minor": 2
}
